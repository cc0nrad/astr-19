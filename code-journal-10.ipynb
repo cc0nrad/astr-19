{
 "cells": [
  {
   "cell_type": "code",
   "execution_count": null,
   "id": "1b0011e8-40b3-44da-b8b9-68562dcc1fb4",
   "metadata": {},
   "outputs": [],
   "source": [
    "import matplotlib.pyplot as plt\n",
    "import numpy as np"
   ]
  },
  {
   "cell_type": "code",
   "execution_count": null,
   "id": "63ca0154-8b97-4df4-8779-bb242a8f1861",
   "metadata": {},
   "outputs": [],
   "source": [
    "data = np.random.normal(loc=0, scale=1, size=1000)"
   ]
  },
  {
   "cell_type": "code",
   "execution_count": null,
   "id": "261466e3-899e-49af-b685-2f798b63a2c7",
   "metadata": {},
   "outputs": [],
   "source": [
    "plt.hist(data, bins=100, color='lightcoral', edgecolor='black')\n",
    "\n",
    "plt.xlabel(\"Random Value\")\n",
    "plt.ylabel(\"Frequency\")\n",
    "\n",
    "plt.title(\"Histogram of 1000 Normally Distributed Random Numbers\")\n",
    "\n",
    "plt.savefig(\"random_distribution_demo.pdf\")"
   ]
  }
 ],
 "metadata": {
  "kernelspec": {
   "display_name": "Python 3 (ipykernel)",
   "language": "python",
   "name": "python3"
  },
  "language_info": {
   "codemirror_mode": {
    "name": "ipython",
    "version": 3
   },
   "file_extension": ".py",
   "mimetype": "text/x-python",
   "name": "python",
   "nbconvert_exporter": "python",
   "pygments_lexer": "ipython3",
   "version": "3.13.7"
  }
 },
 "nbformat": 4,
 "nbformat_minor": 5
}
