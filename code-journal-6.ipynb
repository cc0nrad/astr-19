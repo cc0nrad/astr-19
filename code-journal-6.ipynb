{
 "cells": [
  {
   "cell_type": "markdown",
   "id": "c6982bc2-2d7b-4a29-bbc2-48d44d6e58c4",
   "metadata": {},
   "source": [
    "# Sin and Cos Tabulation in Python\n",
    "\n",
    "Defines Python functions to compute `sin(x)` and `cos(x)` using NumPy.  \n",
    "Next, tabulate both functions for `x` values between 0 and 2 with 1000 evenly spaced points.  \n",
    "Finally, print the first 10 values of `x`, `sin(x)`, and `cos(x)` in a table\n"
   ]
  },
  {
   "cell_type": "code",
   "execution_count": 1,
   "id": "1279644c-6836-446d-9e68-2c3c44714af5",
   "metadata": {},
   "outputs": [],
   "source": [
    "import numpy as np\n",
    "\n",
    "def sin_function(x):\n",
    "    \n",
    "    return np.sin(x)\n"
   ]
  },
  {
   "cell_type": "code",
   "execution_count": 2,
   "id": "601b7baa-4a25-431e-8f7e-9dc52c15744b",
   "metadata": {},
   "outputs": [],
   "source": [
    "def cos_function(x):\n",
    "   \n",
    "    return np.cos(x)\n"
   ]
  },
  {
   "cell_type": "markdown",
   "id": "59c7ba86-398d-4b40-8cf8-bbbe5bda1ae6",
   "metadata": {},
   "source": [
    "## Tabulating sin(x) and cos(x)\n",
    "\n",
    "Create 1000 evenly spaced values of x between 0 and 2 using `numpy.linspace()`.  \n",
    "Then compute `sin(x)` and `cos(x)` for each x using the functions defined above.\n"
   ]
  },
  {
   "cell_type": "code",
   "execution_count": 3,
   "id": "5a1c3e1c-8cbd-441a-8385-3fea2bdf3b36",
   "metadata": {},
   "outputs": [],
   "source": [
    "x_values = np.linspace(0, 2, 1000)\n",
    "\n",
    "sin_values = sin_function(x_values)\n",
    "cos_values = cos_function(x_values)\n"
   ]
  },
  {
   "cell_type": "markdown",
   "id": "a5580c39-8a5b-41c7-8444-4d43eeec2795",
   "metadata": {},
   "source": [
    "## Display the first 10 results\n",
    "\n",
    "Use `for` loop to print the first 10 entries of the tables for `x`, `sin(x)`, and `cos(x)`.  \n",
    "Output formatted to display in aligned columns.\n"
   ]
  },
  {
   "cell_type": "code",
   "execution_count": 4,
   "id": "c0e9b9e3-5ea9-43c4-8f92-7e252fc7ee14",
   "metadata": {},
   "outputs": [
    {
     "name": "stdout",
     "output_type": "stream",
     "text": [
      "         x          sin(x)          cos(x)\n",
      "----------------------------------------\n",
      "  0.000000        0.000000        1.000000\n",
      "  0.002002        0.002002        0.999998\n",
      "  0.004004        0.004004        0.999992\n",
      "  0.006006        0.006006        0.999982\n",
      "  0.008008        0.008008        0.999968\n",
      "  0.010010        0.010010        0.999950\n",
      "  0.012012        0.012012        0.999928\n",
      "  0.014014        0.014014        0.999902\n",
      "  0.016016        0.016015        0.999872\n",
      "  0.018018        0.018017        0.999838\n"
     ]
    }
   ],
   "source": [
    "print(f\"{'x':>10} {'sin(x)':>15} {'cos(x)':>15}\")\n",
    "print(\"-\" * 40)\n",
    "\n",
    "for i in range(10):\n",
    "    print(f\"{x_values[i]:10.6f} {sin_values[i]:15.6f} {cos_values[i]:15.6f}\")\n"
   ]
  }
 ],
 "metadata": {
  "kernelspec": {
   "display_name": "Python 3 (ipykernel)",
   "language": "python",
   "name": "python3"
  },
  "language_info": {
   "codemirror_mode": {
    "name": "ipython",
    "version": 3
   },
   "file_extension": ".py",
   "mimetype": "text/x-python",
   "name": "python",
   "nbconvert_exporter": "python",
   "pygments_lexer": "ipython3",
   "version": "3.13.7"
  }
 },
 "nbformat": 4,
 "nbformat_minor": 5
}
